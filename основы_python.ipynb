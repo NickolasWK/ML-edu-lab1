{
 "nbformat": 4,
 "nbformat_minor": 0,
 "metadata": {
  "colab": {
   "provenance": []
  },
  "kernelspec": {
   "name": "python3",
   "display_name": "Python 3 (ipykernel)",
   "language": "python"
  },
  "language_info": {
   "name": "python"
  }
 },
 "cells": [
  {
   "metadata": {
    "ExecuteTime": {
     "end_time": "2025-04-03T13:10:01.755716Z",
     "start_time": "2025-04-03T13:10:01.752152Z"
    }
   },
   "cell_type": "code",
   "source": [
    "# Подготовка тестов через doctest (запустить для корректной работы остальных блоков)\n",
    "\n",
    "import doctest\n",
    "\n",
    "import numpy as np\n",
    "from IPython.core.magic import register_cell_magic\n",
    "\n",
    "# Магия ячейки для запуска doctest\n",
    "@register_cell_magic\n",
    "def doctest_magic(line, cell):\n",
    "    # Инициализируем код из ячейки\n",
    "    exec(cell, globals())\n",
    "\n",
    "    # Ищем все локальные объекты\n",
    "    local_vars = {}\n",
    "    exec(cell, globals(), local_vars)\n",
    "\n",
    "    # Проходим по всем объектам в локальных переменных и ищем docstring'и для тестирования\n",
    "    for name, obj in local_vars.items():\n",
    "        if callable(obj):  # Проверяем, объект является функцией или классом\n",
    "            print(f\"Running doctests for {name}...\\n\")\n",
    "            try:\n",
    "                doctest.run_docstring_examples(obj, globals(), name=name, verbose=True)\n",
    "            except Exception as e:\n",
    "                print(f\"Error running doctests for {name}: {e}\")"
   ],
   "outputs": [],
   "execution_count": 3
  },
  {
   "cell_type": "markdown",
   "source": [
    "# Задача 1\n",
    "Написать функцию на вход которой подается строка, состоящая из латинских букв.\n",
    "Функция должна вернуть количество гласных букв (a, e, i, o, u) в этой строке. Написать тесты для кода"
   ],
   "metadata": {
    "id": "M-DGa20PaHnu"
   }
  },
  {
   "metadata": {
    "ExecuteTime": {
     "end_time": "2025-04-02T17:25:30.609178Z",
     "start_time": "2025-04-02T17:25:30.603631Z"
    }
   },
   "cell_type": "code",
   "source": [
    "%%doctest_magic\n",
    "\n",
    "def count_vowes(str_text):\n",
    "    \"\"\"\n",
    "    >>> count_vowes ('bibizyanky')\n",
    "    result = 5\n",
    "    >>> count_vowes ('aiwezvpufhaapvhua')\n",
    "    result = 8\n",
    "    \"\"\"\n",
    "    count = 0\n",
    "    vowes_set = {'a', 'e', 'i', 'o', 'u', 'y'}\n",
    "    for char in vowes_set:\n",
    "        count += str_text.count(char)\n",
    "    print(f\"result = {count}\")"
   ],
   "outputs": [
    {
     "name": "stdout",
     "output_type": "stream",
     "text": [
      "Running doctests for count_vowes...\n",
      "\n",
      "Finding tests in count_vowes\n",
      "Trying:\n",
      "    count_vowes ('bibizyanky')\n",
      "Expecting:\n",
      "    result = 5\n",
      "ok\n",
      "Trying:\n",
      "    count_vowes ('aiwezvpufhaapvhua')\n",
      "Expecting:\n",
      "    result = 8\n",
      "ok\n"
     ]
    }
   ],
   "execution_count": 43
  },
  {
   "cell_type": "markdown",
   "source": [
    "# Задача 2\n",
    "Написать функцию на вход, которой подается строка. Функция должна вернуть true, если\n",
    "каждый символ в строке встречается только 1 раз, иначе должна вернуть false. Написать тесты для кода"
   ],
   "metadata": {
    "id": "t2ClV_Y0bbr6"
   }
  },
  {
   "cell_type": "code",
   "source": [
    "%%doctest_magic\n",
    "\n",
    "def string_is_set(str_text):\n",
    "    \"\"\"\n",
    "    >>> string_is_set ('bibizyanky')\n",
    "    false\n",
    "    >>> string_is_set ('aiwezvpufh')\n",
    "    true\n",
    "    \"\"\"\n",
    "    symb_set = [ ]\n",
    "    for char in str_text:\n",
    "        if char not in symb_set:\n",
    "            symb_set.append(char)\n",
    "        else:\n",
    "            print('false')\n",
    "            return\n",
    "    print('true')"
   ],
   "metadata": {
    "id": "FppbECao6VIz",
    "ExecuteTime": {
     "end_time": "2025-04-01T14:15:21.055236Z",
     "start_time": "2025-04-01T14:15:21.050722Z"
    }
   },
   "outputs": [
    {
     "name": "stdout",
     "output_type": "stream",
     "text": [
      "Running doctests for string_is_set...\n",
      "\n",
      "Finding tests in string_is_set\n",
      "Trying:\n",
      "    string_is_set ('bibizyanky')\n",
      "Expecting:\n",
      "    false\n",
      "ok\n",
      "Trying:\n",
      "    string_is_set ('aiwezvpufh')\n",
      "Expecting:\n",
      "    true\n",
      "ok\n"
     ]
    }
   ],
   "execution_count": 40
  },
  {
   "cell_type": "markdown",
   "source": [
    "# Задача 3\n",
    "Написать функцию, которая принимает положительное число и возвращает количество\n",
    "бит равных 1 в этом числе. Написать тесты для кода"
   ],
   "metadata": {
    "id": "udRiIK1cdt6E"
   }
  },
  {
   "cell_type": "code",
   "source": [
    "%%doctest_magic\n",
    "\n",
    "def unit_bits(num):\n",
    "    \"\"\"\n",
    "    >>> unit_bits (63)\n",
    "    6\n",
    "    >>> unit_bits (5478914781)\n",
    "    17\n",
    "    \"\"\"\n",
    "    bin_num = bin(num)[2:]\n",
    "    print(bin_num.count('1'))"
   ],
   "metadata": {
    "id": "6tkfDJRz6dp_",
    "ExecuteTime": {
     "end_time": "2025-04-01T14:20:09.887065Z",
     "start_time": "2025-04-01T14:20:09.882735Z"
    }
   },
   "outputs": [
    {
     "name": "stdout",
     "output_type": "stream",
     "text": [
      "Running doctests for unit_bits...\n",
      "\n",
      "Finding tests in unit_bits\n",
      "Trying:\n",
      "    unit_bits (63)\n",
      "Expecting:\n",
      "    6\n",
      "ok\n",
      "Trying:\n",
      "    unit_bits (5478914781)\n",
      "Expecting:\n",
      "    17\n",
      "ok\n"
     ]
    }
   ],
   "execution_count": 46
  },
  {
   "cell_type": "markdown",
   "source": [
    "# Задача 4\n",
    "Написать функцию, которая принимает положительное число. Функция должна вернуть то,\n",
    "сколько раз необходимо перемножать цифры числа или результат перемножения, чтобы\n",
    "получилось число состоящее из одной цифры.\n",
    "Например, для входного числа:\n",
    "· 39 функция должна вернуть 3, так как 3*9=27 => 2*7=14 => 1*4=4\n",
    "· 4 функция должна вернуть 0, так как число уже состоит из одной цифры\n",
    "· 999 функция должна вернуть 4, так как 9*9*9=729 => 7*2*9=126 => 1*2*6=12 =>\n",
    "1*2=2. Написать тесты для кода"
   ],
   "metadata": {
    "id": "26dDUz-Ae17N"
   }
  },
  {
   "cell_type": "code",
   "source": [
    "%%doctest_magic\n",
    "from functools import reduce\n",
    "import operator\n",
    "\n",
    "def multiplication_count(num):\n",
    "    \"\"\"\n",
    "    >>> multiplication_count (39)\n",
    "    3\n",
    "    >>> multiplication_count (99376937)\n",
    "    4\n",
    "    \"\"\"\n",
    "    count = 0\n",
    "    str_num = str(num)\n",
    "    while len(str_num) > 1:\n",
    "        str_num = str(reduce(operator.mul, map(int, str_num)))\n",
    "        count += 1\n",
    "    print(count)"
   ],
   "metadata": {
    "id": "BH1A_Mgi6i4G",
    "ExecuteTime": {
     "end_time": "2025-04-01T15:05:24.009551Z",
     "start_time": "2025-04-01T15:05:24.003909Z"
    }
   },
   "outputs": [
    {
     "name": "stdout",
     "output_type": "stream",
     "text": [
      "Running doctests for reduce...\n",
      "\n",
      "Finding tests in reduce\n",
      "Running doctests for multiplication_count...\n",
      "\n",
      "Finding tests in multiplication_count\n",
      "Trying:\n",
      "    multiplication_count (39)\n",
      "Expecting:\n",
      "    3\n",
      "ok\n",
      "Trying:\n",
      "    multiplication_count (99376937)\n",
      "Expecting:\n",
      "    4\n",
      "ok\n"
     ]
    }
   ],
   "execution_count": 66
  },
  {
   "cell_type": "markdown",
   "source": [
    "# Задача 5\n",
    "Написать функцию, которая принимает два целочисленных вектора одинаковой длины и\n",
    "возвращает среднеквадратическое отклонение двух векторов. Написать тесты для кода"
   ],
   "metadata": {
    "id": "0nS-kIa8g8vd"
   }
  },
  {
   "cell_type": "code",
   "source": [
    "%%doctest_magic\n",
    "\n",
    "def standart_deviation_vector(v1, v2):\n",
    "    \"\"\"\n",
    "    >>> standart_deviation_vector ([3, 2, 1, 4], [8, 5, 1, 9])\n",
    "    2.8476964374736293\n",
    "    \"\"\"\n",
    "    vect = v1 + v2\n",
    "    q = np.std(vect)\n",
    "    print(q)"
   ],
   "metadata": {
    "id": "8iphx4LM6xbx",
    "ExecuteTime": {
     "end_time": "2025-04-03T13:10:22.974373Z",
     "start_time": "2025-04-03T13:10:22.969770Z"
    }
   },
   "outputs": [
    {
     "name": "stdout",
     "output_type": "stream",
     "text": [
      "Running doctests for standart_deviation_vector...\n",
      "\n",
      "Finding tests in standart_deviation_vector\n",
      "Trying:\n",
      "    standart_deviation_vector ([3, 2, 1, 4], [8, 5, 1, 9])\n",
      "Expecting:\n",
      "    2.8476964374736293\n",
      "ok\n"
     ]
    }
   ],
   "execution_count": 5
  },
  {
   "cell_type": "markdown",
   "source": [
    "# Задача 6\n",
    "Написать функцию, принимающая целое положительное число. Функция должна вернуть\n",
    "строку вида “(n1**p1)(n2**p2)…(nk**pk)” представляющая разложение числа на простые\n",
    "множители (если pi == 1, то выводить только ni).\n",
    "Например, для числа 86240 функция должна вернуть “(2**5)(5)(7**2)(11)”. Написать тесты для кода"
   ],
   "metadata": {
    "id": "vpIPKL439zkw"
   }
  },
  {
   "cell_type": "code",
   "source": [
    "%%doctest_magic\n",
    "\n",
    "def primfacs(num):\n",
    "    \"\"\"\n",
    "    >>> primfacs (39)\n",
    "    (3)(13)\n",
    "    >>> primfacs (86240)\n",
    "    (2**5)(5)(7**2)(11)\n",
    "    \"\"\"\n",
    "    i = 2\n",
    "    primfac = []\n",
    "    while i * i <= num:\n",
    "        facs_count = 0\n",
    "        while num % i == 0:\n",
    "            facs_count += 1\n",
    "            num = num / i\n",
    "        if facs_count > 0:\n",
    "            primfac.append([i, facs_count])\n",
    "        i = i + 1\n",
    "    if num > 1:\n",
    "        primfac.append([int(num), 1])\n",
    "    print(decomposition(primfac))\n",
    "\n",
    "def decomposition(primfac):\n",
    "    result = []\n",
    "    for i in range(len(primfac)):\n",
    "        if primfac[i][1] == 1:\n",
    "            result.append(f\"({primfac[i][0]})\")\n",
    "        else:\n",
    "            result.append(f\"({primfac[i][0]}**{primfac[i][1]})\")\n",
    "    return ''.join(result)\n"
   ],
   "metadata": {
    "id": "pFebmcZk94Jw",
    "ExecuteTime": {
     "end_time": "2025-04-02T14:09:59.424673Z",
     "start_time": "2025-04-02T14:09:59.419666Z"
    }
   },
   "outputs": [
    {
     "name": "stdout",
     "output_type": "stream",
     "text": [
      "Running doctests for primfacs...\n",
      "\n",
      "Finding tests in primfacs\n",
      "Trying:\n",
      "    primfacs (39)\n",
      "Expecting:\n",
      "    (3)(13)\n",
      "ok\n",
      "Trying:\n",
      "    primfacs (86240)\n",
      "Expecting:\n",
      "    (2**5)(5)(7**2)(11)\n",
      "ok\n",
      "Running doctests for decomposition...\n",
      "\n",
      "Finding tests in decomposition\n"
     ]
    }
   ],
   "execution_count": 27
  },
  {
   "cell_type": "markdown",
   "source": [
    "# Задача 7\n",
    "Написать функцию, принимающая целое число n, задающее количество кубиков. Функция\n",
    "должна определить, можно ли из данного кол-ва кубиков построить пирамиду, то есть\n",
    "можно ли представить число n как 1^2+2^2+3^2+…+k^2. Если можно, то функция должна\n",
    "вернуть k, иначе строку “It is impossible”. Написать тесты для кода"
   ],
   "metadata": {
    "id": "ps2s0BudX7A2"
   }
  },
  {
   "cell_type": "code",
   "source": [
    "%%doctest_magic\n",
    "\n",
    "def pyramid(number):\n",
    "    \"\"\"\n",
    "    >>> pyramid (55)\n",
    "    5\n",
    "    >>> pyramid (86240)\n",
    "    It is impossible\n",
    "    \"\"\"\n",
    "    layers = 0\n",
    "    cubes = 0\n",
    "    while cubes < number:\n",
    "        layers += 1\n",
    "        cubes += layers**2\n",
    "    print(layers if cubes == number else \"It is impossible\")"
   ],
   "metadata": {
    "id": "3YPjEXxhX_YT",
    "ExecuteTime": {
     "end_time": "2025-04-02T15:04:01.351529Z",
     "start_time": "2025-04-02T15:04:01.346656Z"
    }
   },
   "outputs": [
    {
     "name": "stdout",
     "output_type": "stream",
     "text": [
      "Running doctests for pyramid...\n",
      "\n",
      "Finding tests in pyramid\n",
      "Trying:\n",
      "    pyramid (55)\n",
      "Expecting:\n",
      "    5\n",
      "ok\n",
      "Trying:\n",
      "    pyramid (86240)\n",
      "Expecting:\n",
      "    It is impossible\n",
      "ok\n"
     ]
    }
   ],
   "execution_count": 29
  },
  {
   "cell_type": "markdown",
   "source": [
    "# Задача 8\n",
    "Функция принимает на вход положительное число и определяет является ли оно сбалансированным, т.е. сумма цифр до средних равна сумме цифр после. Средними в случае нечетного числа цифр считать одну цифру, в случае четного - две средних. Написать тесты для кода"
   ],
   "metadata": {
    "id": "KeKgmIdAQMEJ"
   }
  },
  {
   "metadata": {
    "id": "gMAAqtqlQrZt",
    "ExecuteTime": {
     "end_time": "2025-04-02T17:05:11.318640Z",
     "start_time": "2025-04-02T17:05:11.310293Z"
    }
   },
   "cell_type": "code",
   "outputs": [
    {
     "name": "stdout",
     "output_type": "stream",
     "text": [
      "Running doctests for ceil...\n",
      "\n",
      "Finding tests in ceil\n",
      "Running doctests for floor...\n",
      "\n",
      "Finding tests in floor\n",
      "Running doctests for remainder...\n",
      "\n",
      "Finding tests in remainder\n",
      "Running doctests for balanced...\n",
      "\n",
      "Finding tests in balanced\n",
      "Trying:\n",
      "    balanced (145932)\n",
      "Expecting:\n",
      "    Balanced\n",
      "ok\n",
      "Trying:\n",
      "    balanced (86240)\n",
      "Expecting:\n",
      "    Not balanced\n",
      "ok\n",
      "Running doctests for summary...\n",
      "\n",
      "Finding tests in summary\n"
     ]
    }
   ],
   "execution_count": 42,
   "source": [
    "%%doctest_magic\n",
    "from math import ceil, floor, remainder\n",
    "\n",
    "\n",
    "def balanced(number):\n",
    "    \"\"\"\n",
    "    >>> balanced (145932)\n",
    "    Balanced\n",
    "    >>> balanced (86240)\n",
    "    Not balanced\n",
    "    \"\"\"\n",
    "    string_num = str(number)\n",
    "    if len(string_num) <= 2:\n",
    "        print(\"Balanced\")\n",
    "    border = len(string_num) / 2\n",
    "    remaind = abs(len(string_num) % 2 - 1)\n",
    "    sum1 = summary(string_num[:(floor(border) - remaind)])\n",
    "    sum2 = summary(string_num[(remaind + ceil(border)):])\n",
    "    print(\"Balanced\") if sum1 == sum2 else print(\"Not balanced\")\n",
    "\n",
    "def summary(string):\n",
    "    summ = 0\n",
    "    for char in string:\n",
    "        summ += int(char)\n",
    "    return summ\n"
   ]
  }
 ]
}
